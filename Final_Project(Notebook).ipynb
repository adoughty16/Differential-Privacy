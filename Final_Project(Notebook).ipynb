{
 "cells": [
  {
   "cell_type": "code",
   "execution_count": 11,
   "id": "9c727beb",
   "metadata": {},
   "outputs": [],
   "source": [
    "# Load the data and libraries\n",
    "import pandas as pd\n",
    "import numpy as np\n",
    "from scipy import stats\n",
    "import matplotlib.pyplot as plt\n",
    "\n",
    "def laplace_mech(v, sensitivity, epsilon):\n",
    "    return v + np.random.laplace(loc=0, scale=sensitivity / epsilon)\n",
    "\n",
    "def gaussian_mech(v, sensitivity, epsilon, delta):\n",
    "    return v + np.random.normal(loc=0, scale=sensitivity * np.sqrt(2*np.log(1.25/delta)) / epsilon)\n",
    "\n",
    "def gaussian_mech_vec(vec, sensitivity, epsilon, delta):\n",
    "    return [v + np.random.normal(loc=0, scale=sensitivity * np.sqrt(2*np.log(1.25/delta)) / epsilon)\n",
    "            for v in vec]\n",
    "\n",
    "def pct_error(orig, priv):\n",
    "    return np.abs(orig - priv)/orig * 100.0\n",
    "\n",
    "adult = pd.read_csv('https://github.com/jnear/cs3110-data-privacy/raw/main/homework/adult_with_pii.csv')\n",
    "adult = adult.drop(columns=['Name', 'DOB', 'SSN', 'Zip'])"
   ]
  },
  {
   "cell_type": "code",
   "execution_count": 12,
   "id": "34388347",
   "metadata": {},
   "outputs": [],
   "source": [
    "def two_way_marginal(col1, col2, epsilon):\n",
    "    \n",
    "    syn_rep = adult[[col1, col2]].value_counts()\n",
    "    dp_syn = syn_rep.apply(lambda x: laplace_mech(x, 1, epsilon))\n",
    "    dp_syn = dp_syn.clip(lower=0)\n",
    "    marginal = dp_syn / dp_syn.sum()\n",
    "    return marginal.to_frame(name='probability').reset_index()"
   ]
  },
  {
   "cell_type": "code",
   "execution_count": 13,
   "id": "a06f9b8e",
   "metadata": {},
   "outputs": [],
   "source": [
    "def general_syn_dat(n, cols, epsilon):\n",
    "    syn_dat = {}\n",
    "\n",
    "    # Related Marginals (rather than basing everything off of column 0, I chose to\n",
    "    # create them sequentially so you have m1=col[0]|col[1], m2=col[1]|col[2]... and so on)\n",
    "    marginal_1 = two_way_marginal(cols[0], cols[1], epsilon)\n",
    "    marginal_2 = two_way_marginal(cols[1], cols[2], epsilon)\n",
    "    marginal_3 = two_way_marginal(cols[2], cols[3], epsilon)\n",
    "\n",
    "    # As above, the synthetic data is created sequentially based on the input columns instead of\n",
    "    # all being related to the first column\n",
    "    syn_dat[cols[0]] = np.random.choice(marginal_1[cols[0]], size=n, p=marginal_1['probability'])\n",
    "    syn_dat[cols[1]] = np.random.choice(marginal_1[cols[1]], size=n, p=marginal_1['probability'])\n",
    "    syn_dat[cols[2]] = np.random.choice(marginal_2[cols[2]], size=n, p=marginal_2['probability'])\n",
    "    syn_dat[cols[3]] = np.random.choice(marginal_3[cols[3]], size=n, p=marginal_3['probability'])\n",
    "    \n",
    "    syn_dat_df = pd.DataFrame(syn_dat)\n",
    "\n",
    "    return syn_dat_df"
   ]
  },
  {
   "cell_type": "code",
   "execution_count": 14,
   "id": "544375f9",
   "metadata": {},
   "outputs": [
    {
     "data": {
      "text/plain": [
       "Index(['Age', 'Workclass', 'fnlwgt', 'Education', 'Education-Num',\n",
       "       'Marital Status', 'Occupation', 'Relationship', 'Race', 'Sex',\n",
       "       'Capital Gain', 'Capital Loss', 'Hours per week', 'Country', 'Target'],\n",
       "      dtype='object')"
      ]
     },
     "execution_count": 14,
     "metadata": {},
     "output_type": "execute_result"
    }
   ],
   "source": [
    "adult.columns # Printing out columns to help choose test columns"
   ]
  },
  {
   "cell_type": "code",
   "execution_count": 15,
   "id": "6e278320",
   "metadata": {},
   "outputs": [
    {
     "data": {
      "text/plain": [
       "<=50K    24720\n",
       ">50K      7841\n",
       "Name: Target, dtype: int64"
      ]
     },
     "execution_count": 15,
     "metadata": {},
     "output_type": "execute_result"
    }
   ],
   "source": [
    "adult['Target'].value_counts() # Printing out categories of chosen column to plug into test cases"
   ]
  },
  {
   "cell_type": "code",
   "execution_count": 16,
   "id": "a16f77a8",
   "metadata": {},
   "outputs": [
    {
     "data": {
      "text/plain": [
       "9     10501\n",
       "10     7291\n",
       "13     5355\n",
       "14     1723\n",
       "11     1382\n",
       "7      1175\n",
       "12     1067\n",
       "6       933\n",
       "4       646\n",
       "15      576\n",
       "5       514\n",
       "8       433\n",
       "16      413\n",
       "3       333\n",
       "2       168\n",
       "1        51\n",
       "Name: Education-Num, dtype: int64"
      ]
     },
     "execution_count": 16,
     "metadata": {},
     "output_type": "execute_result"
    }
   ],
   "source": [
    "adult['Education-Num'].value_counts() # Printing out categories of chosen column to plug into test cases"
   ]
  },
  {
   "cell_type": "code",
   "execution_count": 17,
   "id": "65cdc58a",
   "metadata": {},
   "outputs": [
    {
     "data": {
      "text/plain": [
       "Married-civ-spouse       14976\n",
       "Never-married            10683\n",
       "Divorced                  4443\n",
       "Separated                 1025\n",
       "Widowed                    993\n",
       "Married-spouse-absent      418\n",
       "Married-AF-spouse           23\n",
       "Name: Marital Status, dtype: int64"
      ]
     },
     "execution_count": 17,
     "metadata": {},
     "output_type": "execute_result"
    }
   ],
   "source": [
    "adult['Marital Status'].value_counts() # Printing out categories of chosen column to plug into test cases"
   ]
  },
  {
   "cell_type": "code",
   "execution_count": 30,
   "id": "2cf0c5c3",
   "metadata": {},
   "outputs": [
    {
     "name": "stdout",
     "output_type": "stream",
     "text": [
      "38.58 3124 15217 13193\n",
      "38.45 3202 15373 13250\n"
     ]
    }
   ],
   "source": [
    "# TEST CASES\n",
    "\n",
    "#cols = ['Age', 'Workclass', 'Occupation', 'Education']\n",
    "#cats = ['State-gov', 'Sales', 'Bachelors']\n",
    "\n",
    "#cols = ['Age', 'Race', 'Hours per week', 'Relationship']\n",
    "#cats = ['Black', 40, 'Husband']\n",
    "\n",
    "cols = ['Age', 'Target', 'Education-Num', 'Marital Status']\n",
    "cats = ['>50K', 15, 'Divorced']\n",
    "\n",
    "SIZE = 32561 # Size of adult dataset\n",
    "EPSILON = 1.0\n",
    "\n",
    "synthetic_data = general_syn_dat(SIZE, cols, EPSILON)\n",
    "\n",
    "synth1 = synthetic_data['Age'].mean()\n",
    "synth2 = len(synthetic_data[synthetic_data[cols[1]] == cats[0]])\n",
    "synth3 = len(synthetic_data[synthetic_data[cols[2]] == cats[1]])\n",
    "synth4 = len(synthetic_data[synthetic_data[cols[3]] == cats[2]])\n",
    "\n",
    "real1 = adult['Age'].mean()\n",
    "real2 = len(adult[adult[cols[1]] == cats[0]])\n",
    "real3 = len(adult[adult[cols[2]] == cats[1]])\n",
    "real4 = len(adult[adult[cols[3]] == cats[2]])\n",
    "\n",
    "print(f'{real1:.2f}', real2, real3, real4)\n",
    "\n",
    "print(f'{synth1:.2f}', synth2, synth3, synth4)\n",
    "\n",
    "assert synth1/real1 > 0.95 and synth1/real1 < 1.05\n",
    "assert synth2/real2 > 0.9 and synth2/real2 < 1.1\n",
    "assert synth3/real3 > 0.9 and synth3/real3 < 1.1\n",
    "assert synth4/real4 > 0.9 and synth4/real4 < 1.1"
   ]
  },
  {
   "cell_type": "code",
   "execution_count": null,
   "id": "938fb3b8",
   "metadata": {},
   "outputs": [],
   "source": []
  },
  {
   "cell_type": "code",
   "execution_count": null,
   "id": "11bcdf54",
   "metadata": {},
   "outputs": [],
   "source": []
  },
  {
   "cell_type": "code",
   "execution_count": null,
   "id": "9840f8fa",
   "metadata": {},
   "outputs": [],
   "source": []
  },
  {
   "cell_type": "code",
   "execution_count": null,
   "id": "44975bdf",
   "metadata": {},
   "outputs": [],
   "source": []
  }
 ],
 "metadata": {
  "kernelspec": {
   "display_name": "Python 3 (ipykernel)",
   "language": "python",
   "name": "python3"
  },
  "language_info": {
   "codemirror_mode": {
    "name": "ipython",
    "version": 3
   },
   "file_extension": ".py",
   "mimetype": "text/x-python",
   "name": "python",
   "nbconvert_exporter": "python",
   "pygments_lexer": "ipython3",
   "version": "3.11.4"
  }
 },
 "nbformat": 4,
 "nbformat_minor": 5
}
